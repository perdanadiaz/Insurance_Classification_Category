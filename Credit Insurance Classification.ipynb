{
 "cells": [
  {
   "cell_type": "markdown",
   "metadata": {},
   "source": [
    "Import Libraries"
   ]
  },
  {
   "cell_type": "code",
   "execution_count": 2,
   "metadata": {},
   "outputs": [],
   "source": [
    "import pandas as pd\n",
    "import numpy as np\n",
    "import matplotlib.pyplot as plt\n",
    "import seaborn as sns"
   ]
  },
  {
   "cell_type": "markdown",
   "metadata": {},
   "source": [
    "Import Dataset"
   ]
  },
  {
   "cell_type": "code",
   "execution_count": 3,
   "metadata": {},
   "outputs": [
    {
     "data": {
      "text/html": [
       "<div>\n",
       "<style scoped>\n",
       "    .dataframe tbody tr th:only-of-type {\n",
       "        vertical-align: middle;\n",
       "    }\n",
       "\n",
       "    .dataframe tbody tr th {\n",
       "        vertical-align: top;\n",
       "    }\n",
       "\n",
       "    .dataframe thead th {\n",
       "        text-align: right;\n",
       "    }\n",
       "</style>\n",
       "<table border=\"1\" class=\"dataframe\">\n",
       "  <thead>\n",
       "    <tr style=\"text-align: right;\">\n",
       "      <th></th>\n",
       "      <th>is_claim</th>\n",
       "      <th>jangka_waktu</th>\n",
       "      <th>jenis_kelamin</th>\n",
       "      <th>plafon_kredit</th>\n",
       "      <th>sector_desc</th>\n",
       "      <th>modal_usaha</th>\n",
       "      <th>nilai_agunan</th>\n",
       "      <th>jml_t_kerja</th>\n",
       "      <th>kode_uker</th>\n",
       "      <th>jenis_kredit_bank</th>\n",
       "      <th>jenis_kur_bank</th>\n",
       "      <th>jenis_agunan</th>\n",
       "    </tr>\n",
       "  </thead>\n",
       "  <tbody>\n",
       "    <tr>\n",
       "      <th>0</th>\n",
       "      <td>0</td>\n",
       "      <td>6</td>\n",
       "      <td>P</td>\n",
       "      <td>8000000</td>\n",
       "      <td>01.   PERTANIAN DAN KEHUTANAN</td>\n",
       "      <td>8000000</td>\n",
       "      <td>5600000</td>\n",
       "      <td>2</td>\n",
       "      <td>113</td>\n",
       "      <td>KMK</td>\n",
       "      <td>Supermikro</td>\n",
       "      <td>Lainnya</td>\n",
       "    </tr>\n",
       "    <tr>\n",
       "      <th>1</th>\n",
       "      <td>0</td>\n",
       "      <td>6</td>\n",
       "      <td>L</td>\n",
       "      <td>10000000</td>\n",
       "      <td>01.   PERTANIAN DAN KEHUTANAN</td>\n",
       "      <td>10000000</td>\n",
       "      <td>7000000</td>\n",
       "      <td>2</td>\n",
       "      <td>113</td>\n",
       "      <td>KMK</td>\n",
       "      <td>Supermikro</td>\n",
       "      <td>Lainnya</td>\n",
       "    </tr>\n",
       "    <tr>\n",
       "      <th>2</th>\n",
       "      <td>0</td>\n",
       "      <td>6</td>\n",
       "      <td>L</td>\n",
       "      <td>10000000</td>\n",
       "      <td>01.   PERTANIAN DAN KEHUTANAN</td>\n",
       "      <td>10000000</td>\n",
       "      <td>7000000</td>\n",
       "      <td>3</td>\n",
       "      <td>193</td>\n",
       "      <td>KMK</td>\n",
       "      <td>Supermikro</td>\n",
       "      <td>Lainnya</td>\n",
       "    </tr>\n",
       "    <tr>\n",
       "      <th>3</th>\n",
       "      <td>0</td>\n",
       "      <td>6</td>\n",
       "      <td>P</td>\n",
       "      <td>7500000</td>\n",
       "      <td>01.   PERTANIAN DAN KEHUTANAN</td>\n",
       "      <td>3000000</td>\n",
       "      <td>5250000</td>\n",
       "      <td>2</td>\n",
       "      <td>64</td>\n",
       "      <td>KMK</td>\n",
       "      <td>Supermikro</td>\n",
       "      <td>Lainnya</td>\n",
       "    </tr>\n",
       "    <tr>\n",
       "      <th>4</th>\n",
       "      <td>0</td>\n",
       "      <td>6</td>\n",
       "      <td>L</td>\n",
       "      <td>7500000</td>\n",
       "      <td>01.   PERTANIAN DAN KEHUTANAN</td>\n",
       "      <td>3000000</td>\n",
       "      <td>5250000</td>\n",
       "      <td>2</td>\n",
       "      <td>64</td>\n",
       "      <td>KMK</td>\n",
       "      <td>Supermikro</td>\n",
       "      <td>Lainnya</td>\n",
       "    </tr>\n",
       "    <tr>\n",
       "      <th>...</th>\n",
       "      <td>...</td>\n",
       "      <td>...</td>\n",
       "      <td>...</td>\n",
       "      <td>...</td>\n",
       "      <td>...</td>\n",
       "      <td>...</td>\n",
       "      <td>...</td>\n",
       "      <td>...</td>\n",
       "      <td>...</td>\n",
       "      <td>...</td>\n",
       "      <td>...</td>\n",
       "      <td>...</td>\n",
       "    </tr>\n",
       "    <tr>\n",
       "      <th>99995</th>\n",
       "      <td>1</td>\n",
       "      <td>48</td>\n",
       "      <td>P</td>\n",
       "      <td>500000000</td>\n",
       "      <td>01.   PERTANIAN DAN KEHUTANAN</td>\n",
       "      <td>1650226166</td>\n",
       "      <td>200000</td>\n",
       "      <td>2</td>\n",
       "      <td>3163</td>\n",
       "      <td>KMK</td>\n",
       "      <td>Kecil</td>\n",
       "      <td>Tanah SHM/SHGB/SHGU/SHP</td>\n",
       "    </tr>\n",
       "    <tr>\n",
       "      <th>99996</th>\n",
       "      <td>1</td>\n",
       "      <td>36</td>\n",
       "      <td>P</td>\n",
       "      <td>500000000</td>\n",
       "      <td>11.   USAHA PERSEWAAN</td>\n",
       "      <td>850791980</td>\n",
       "      <td>1100000</td>\n",
       "      <td>2</td>\n",
       "      <td>3160</td>\n",
       "      <td>KI</td>\n",
       "      <td>Kecil</td>\n",
       "      <td>Tanah SHM/SHGB/SHGU/SHP</td>\n",
       "    </tr>\n",
       "    <tr>\n",
       "      <th>99997</th>\n",
       "      <td>1</td>\n",
       "      <td>48</td>\n",
       "      <td>P</td>\n",
       "      <td>125000000</td>\n",
       "      <td>07.   PERDAGANGAN</td>\n",
       "      <td>560000000</td>\n",
       "      <td>800000</td>\n",
       "      <td>2</td>\n",
       "      <td>26</td>\n",
       "      <td>KMK</td>\n",
       "      <td>Kecil</td>\n",
       "      <td>Tanah SHM/SHGB/SHGU/SHP</td>\n",
       "    </tr>\n",
       "    <tr>\n",
       "      <th>99998</th>\n",
       "      <td>1</td>\n",
       "      <td>48</td>\n",
       "      <td>L</td>\n",
       "      <td>500000000</td>\n",
       "      <td>01.   PERTANIAN DAN KEHUTANAN</td>\n",
       "      <td>649773200</td>\n",
       "      <td>454169200</td>\n",
       "      <td>2</td>\n",
       "      <td>3160</td>\n",
       "      <td>KMK</td>\n",
       "      <td>Kecil</td>\n",
       "      <td>Persediaan Hewan Ternak</td>\n",
       "    </tr>\n",
       "    <tr>\n",
       "      <th>99999</th>\n",
       "      <td>1</td>\n",
       "      <td>60</td>\n",
       "      <td>P</td>\n",
       "      <td>500000000</td>\n",
       "      <td>07.   PERDAGANGAN</td>\n",
       "      <td>50000000</td>\n",
       "      <td>350000000</td>\n",
       "      <td>2</td>\n",
       "      <td>3450</td>\n",
       "      <td>KI</td>\n",
       "      <td>Kecil</td>\n",
       "      <td>Bangunan IMB di atas tanah yang dijaminkan</td>\n",
       "    </tr>\n",
       "  </tbody>\n",
       "</table>\n",
       "<p>100000 rows × 12 columns</p>\n",
       "</div>"
      ],
      "text/plain": [
       "       is_claim  jangka_waktu jenis_kelamin  plafon_kredit  \\\n",
       "0             0             6             P        8000000   \n",
       "1             0             6             L       10000000   \n",
       "2             0             6             L       10000000   \n",
       "3             0             6             P        7500000   \n",
       "4             0             6             L        7500000   \n",
       "...         ...           ...           ...            ...   \n",
       "99995         1            48             P      500000000   \n",
       "99996         1            36             P      500000000   \n",
       "99997         1            48             P      125000000   \n",
       "99998         1            48             L      500000000   \n",
       "99999         1            60             P      500000000   \n",
       "\n",
       "                         sector_desc  modal_usaha  nilai_agunan  jml_t_kerja  \\\n",
       "0      01.   PERTANIAN DAN KEHUTANAN      8000000       5600000            2   \n",
       "1      01.   PERTANIAN DAN KEHUTANAN     10000000       7000000            2   \n",
       "2      01.   PERTANIAN DAN KEHUTANAN     10000000       7000000            3   \n",
       "3      01.   PERTANIAN DAN KEHUTANAN      3000000       5250000            2   \n",
       "4      01.   PERTANIAN DAN KEHUTANAN      3000000       5250000            2   \n",
       "...                              ...          ...           ...          ...   \n",
       "99995  01.   PERTANIAN DAN KEHUTANAN   1650226166        200000            2   \n",
       "99996          11.   USAHA PERSEWAAN    850791980       1100000            2   \n",
       "99997              07.   PERDAGANGAN    560000000        800000            2   \n",
       "99998  01.   PERTANIAN DAN KEHUTANAN    649773200     454169200            2   \n",
       "99999              07.   PERDAGANGAN     50000000     350000000            2   \n",
       "\n",
       "       kode_uker jenis_kredit_bank jenis_kur_bank  \\\n",
       "0            113               KMK     Supermikro   \n",
       "1            113               KMK     Supermikro   \n",
       "2            193               KMK     Supermikro   \n",
       "3             64               KMK     Supermikro   \n",
       "4             64               KMK     Supermikro   \n",
       "...          ...               ...            ...   \n",
       "99995       3163               KMK          Kecil   \n",
       "99996       3160                KI          Kecil   \n",
       "99997         26               KMK          Kecil   \n",
       "99998       3160               KMK          Kecil   \n",
       "99999       3450                KI          Kecil   \n",
       "\n",
       "                                     jenis_agunan  \n",
       "0                                         Lainnya  \n",
       "1                                         Lainnya  \n",
       "2                                         Lainnya  \n",
       "3                                         Lainnya  \n",
       "4                                         Lainnya  \n",
       "...                                           ...  \n",
       "99995                     Tanah SHM/SHGB/SHGU/SHP  \n",
       "99996                     Tanah SHM/SHGB/SHGU/SHP  \n",
       "99997                     Tanah SHM/SHGB/SHGU/SHP  \n",
       "99998                     Persediaan Hewan Ternak  \n",
       "99999  Bangunan IMB di atas tanah yang dijaminkan  \n",
       "\n",
       "[100000 rows x 12 columns]"
      ]
     },
     "execution_count": 3,
     "metadata": {},
     "output_type": "execute_result"
    }
   ],
   "source": [
    "sheet_url = 'https://docs.google.com/spreadsheets/d/1ifwyN_j5WmA9KZSwtMWha-GW0wCTW1UYol73yMlPkCc/edit#gid=1651716628'\n",
    "sheet_url_trf = sheet_url.replace('/edit#gid=', '/export?format=csv&gid=')\n",
    "dataset = pd.read_csv(sheet_url_trf)\n",
    "dataset"
   ]
  },
  {
   "cell_type": "code",
   "execution_count": 4,
   "metadata": {},
   "outputs": [
    {
     "name": "stdout",
     "output_type": "stream",
     "text": [
      "<class 'pandas.core.frame.DataFrame'>\n",
      "RangeIndex: 100000 entries, 0 to 99999\n",
      "Data columns (total 12 columns):\n",
      " #   Column             Non-Null Count   Dtype \n",
      "---  ------             --------------   ----- \n",
      " 0   is_claim           100000 non-null  int64 \n",
      " 1   jangka_waktu       100000 non-null  int64 \n",
      " 2   jenis_kelamin      100000 non-null  object\n",
      " 3   plafon_kredit      100000 non-null  int64 \n",
      " 4   sector_desc        99942 non-null   object\n",
      " 5   modal_usaha        100000 non-null  int64 \n",
      " 6   nilai_agunan       100000 non-null  int64 \n",
      " 7   jml_t_kerja        100000 non-null  int64 \n",
      " 8   kode_uker          100000 non-null  int64 \n",
      " 9   jenis_kredit_bank  100000 non-null  object\n",
      " 10  jenis_kur_bank     100000 non-null  object\n",
      " 11  jenis_agunan       100000 non-null  object\n",
      "dtypes: int64(7), object(5)\n",
      "memory usage: 9.2+ MB\n"
     ]
    }
   ],
   "source": [
    "dataset.info()"
   ]
  },
  {
   "cell_type": "code",
   "execution_count": 5,
   "metadata": {},
   "outputs": [
    {
     "data": {
      "text/html": [
       "<div>\n",
       "<style scoped>\n",
       "    .dataframe tbody tr th:only-of-type {\n",
       "        vertical-align: middle;\n",
       "    }\n",
       "\n",
       "    .dataframe tbody tr th {\n",
       "        vertical-align: top;\n",
       "    }\n",
       "\n",
       "    .dataframe thead th {\n",
       "        text-align: right;\n",
       "    }\n",
       "</style>\n",
       "<table border=\"1\" class=\"dataframe\">\n",
       "  <thead>\n",
       "    <tr style=\"text-align: right;\">\n",
       "      <th></th>\n",
       "      <th>is_claim</th>\n",
       "      <th>jangka_waktu</th>\n",
       "      <th>plafon_kredit</th>\n",
       "      <th>modal_usaha</th>\n",
       "      <th>nilai_agunan</th>\n",
       "      <th>jml_t_kerja</th>\n",
       "      <th>kode_uker</th>\n",
       "    </tr>\n",
       "  </thead>\n",
       "  <tbody>\n",
       "    <tr>\n",
       "      <th>count</th>\n",
       "      <td>100000.00000</td>\n",
       "      <td>100000.000000</td>\n",
       "      <td>1.000000e+05</td>\n",
       "      <td>1.000000e+05</td>\n",
       "      <td>1.000000e+05</td>\n",
       "      <td>100000.00000</td>\n",
       "      <td>100000.00000</td>\n",
       "    </tr>\n",
       "    <tr>\n",
       "      <th>mean</th>\n",
       "      <td>0.04529</td>\n",
       "      <td>25.867890</td>\n",
       "      <td>1.231020e+08</td>\n",
       "      <td>3.084680e+08</td>\n",
       "      <td>1.067579e+08</td>\n",
       "      <td>2.26099</td>\n",
       "      <td>562.57887</td>\n",
       "    </tr>\n",
       "    <tr>\n",
       "      <th>std</th>\n",
       "      <td>0.20794</td>\n",
       "      <td>21.865044</td>\n",
       "      <td>1.562560e+08</td>\n",
       "      <td>5.515279e+08</td>\n",
       "      <td>2.055865e+08</td>\n",
       "      <td>2.72063</td>\n",
       "      <td>1080.20032</td>\n",
       "    </tr>\n",
       "    <tr>\n",
       "      <th>min</th>\n",
       "      <td>0.00000</td>\n",
       "      <td>1.000000</td>\n",
       "      <td>2.000000e+05</td>\n",
       "      <td>-3.559350e+08</td>\n",
       "      <td>-2.147484e+09</td>\n",
       "      <td>1.00000</td>\n",
       "      <td>2.00000</td>\n",
       "    </tr>\n",
       "    <tr>\n",
       "      <th>25%</th>\n",
       "      <td>0.00000</td>\n",
       "      <td>6.000000</td>\n",
       "      <td>2.000000e+07</td>\n",
       "      <td>1.000000e+07</td>\n",
       "      <td>1.349750e+07</td>\n",
       "      <td>2.00000</td>\n",
       "      <td>91.00000</td>\n",
       "    </tr>\n",
       "    <tr>\n",
       "      <th>50%</th>\n",
       "      <td>0.00000</td>\n",
       "      <td>12.000000</td>\n",
       "      <td>3.500000e+07</td>\n",
       "      <td>2.500000e+07</td>\n",
       "      <td>2.100000e+07</td>\n",
       "      <td>2.00000</td>\n",
       "      <td>142.00000</td>\n",
       "    </tr>\n",
       "    <tr>\n",
       "      <th>75%</th>\n",
       "      <td>0.00000</td>\n",
       "      <td>48.000000</td>\n",
       "      <td>2.000000e+08</td>\n",
       "      <td>4.488276e+08</td>\n",
       "      <td>1.420000e+08</td>\n",
       "      <td>2.00000</td>\n",
       "      <td>253.00000</td>\n",
       "    </tr>\n",
       "    <tr>\n",
       "      <th>max</th>\n",
       "      <td>1.00000</td>\n",
       "      <td>60.000000</td>\n",
       "      <td>5.000000e+08</td>\n",
       "      <td>2.388139e+10</td>\n",
       "      <td>2.145000e+09</td>\n",
       "      <td>99.00000</td>\n",
       "      <td>3610.00000</td>\n",
       "    </tr>\n",
       "  </tbody>\n",
       "</table>\n",
       "</div>"
      ],
      "text/plain": [
       "           is_claim   jangka_waktu  plafon_kredit   modal_usaha  nilai_agunan  \\\n",
       "count  100000.00000  100000.000000   1.000000e+05  1.000000e+05  1.000000e+05   \n",
       "mean        0.04529      25.867890   1.231020e+08  3.084680e+08  1.067579e+08   \n",
       "std         0.20794      21.865044   1.562560e+08  5.515279e+08  2.055865e+08   \n",
       "min         0.00000       1.000000   2.000000e+05 -3.559350e+08 -2.147484e+09   \n",
       "25%         0.00000       6.000000   2.000000e+07  1.000000e+07  1.349750e+07   \n",
       "50%         0.00000      12.000000   3.500000e+07  2.500000e+07  2.100000e+07   \n",
       "75%         0.00000      48.000000   2.000000e+08  4.488276e+08  1.420000e+08   \n",
       "max         1.00000      60.000000   5.000000e+08  2.388139e+10  2.145000e+09   \n",
       "\n",
       "        jml_t_kerja     kode_uker  \n",
       "count  100000.00000  100000.00000  \n",
       "mean        2.26099     562.57887  \n",
       "std         2.72063    1080.20032  \n",
       "min         1.00000       2.00000  \n",
       "25%         2.00000      91.00000  \n",
       "50%         2.00000     142.00000  \n",
       "75%         2.00000     253.00000  \n",
       "max        99.00000    3610.00000  "
      ]
     },
     "execution_count": 5,
     "metadata": {},
     "output_type": "execute_result"
    }
   ],
   "source": [
    "dataset.describe()"
   ]
  },
  {
   "cell_type": "code",
   "execution_count": 6,
   "metadata": {},
   "outputs": [
    {
     "data": {
      "text/plain": [
       "is_claim              0\n",
       "jangka_waktu          0\n",
       "jenis_kelamin         0\n",
       "plafon_kredit         0\n",
       "sector_desc          58\n",
       "modal_usaha           0\n",
       "nilai_agunan          0\n",
       "jml_t_kerja           0\n",
       "kode_uker             0\n",
       "jenis_kredit_bank     0\n",
       "jenis_kur_bank        0\n",
       "jenis_agunan          0\n",
       "dtype: int64"
      ]
     },
     "execution_count": 6,
     "metadata": {},
     "output_type": "execute_result"
    }
   ],
   "source": [
    "dataset.isnull().sum()"
   ]
  },
  {
   "cell_type": "markdown",
   "metadata": {},
   "source": [
    "Removing Null Values"
   ]
  },
  {
   "cell_type": "code",
   "execution_count": 8,
   "metadata": {},
   "outputs": [
    {
     "data": {
      "text/plain": [
       "is_claim             0\n",
       "jangka_waktu         0\n",
       "jenis_kelamin        0\n",
       "plafon_kredit        0\n",
       "sector_desc          0\n",
       "modal_usaha          0\n",
       "nilai_agunan         0\n",
       "jml_t_kerja          0\n",
       "kode_uker            0\n",
       "jenis_kredit_bank    0\n",
       "jenis_kur_bank       0\n",
       "jenis_agunan         0\n",
       "dtype: int64"
      ]
     },
     "execution_count": 8,
     "metadata": {},
     "output_type": "execute_result"
    }
   ],
   "source": [
    "dataset = dataset.dropna()\n",
    "dataset.isnull().sum()"
   ]
  },
  {
   "cell_type": "code",
   "execution_count": 9,
   "metadata": {},
   "outputs": [
    {
     "name": "stdout",
     "output_type": "stream",
     "text": [
      "<class 'pandas.core.frame.DataFrame'>\n",
      "Int64Index: 99942 entries, 0 to 99999\n",
      "Data columns (total 12 columns):\n",
      " #   Column             Non-Null Count  Dtype \n",
      "---  ------             --------------  ----- \n",
      " 0   is_claim           99942 non-null  int64 \n",
      " 1   jangka_waktu       99942 non-null  int64 \n",
      " 2   jenis_kelamin      99942 non-null  object\n",
      " 3   plafon_kredit      99942 non-null  int64 \n",
      " 4   sector_desc        99942 non-null  object\n",
      " 5   modal_usaha        99942 non-null  int64 \n",
      " 6   nilai_agunan       99942 non-null  int64 \n",
      " 7   jml_t_kerja        99942 non-null  int64 \n",
      " 8   kode_uker          99942 non-null  int64 \n",
      " 9   jenis_kredit_bank  99942 non-null  object\n",
      " 10  jenis_kur_bank     99942 non-null  object\n",
      " 11  jenis_agunan       99942 non-null  object\n",
      "dtypes: int64(7), object(5)\n",
      "memory usage: 9.9+ MB\n"
     ]
    }
   ],
   "source": [
    "dataset.info()"
   ]
  },
  {
   "cell_type": "markdown",
   "metadata": {},
   "source": [
    "Outlier Detection"
   ]
  },
  {
   "cell_type": "markdown",
   "metadata": {},
   "source": [
    "Plafond Kredit (Criteria : Plafond Kredit > Rp 500.000.000,-)"
   ]
  },
  {
   "cell_type": "code",
   "execution_count": 10,
   "metadata": {},
   "outputs": [
    {
     "data": {
      "text/plain": [
       "<AxesSubplot: >"
      ]
     },
     "execution_count": 10,
     "metadata": {},
     "output_type": "execute_result"
    },
    {
     "data": {
      "image/png": "[encoded data removed]",
      "text/plain": [
       "<Figure size 432x288 with 1 Axes>"
      ]
     },
     "metadata": {
      "needs_background": "light"
     },
     "output_type": "display_data"
    }
   ],
   "source": [
    "import seaborn as sns\n",
    "sns.boxplot(dataset['plafon_kredit'])"
   ]
  },
  {
   "cell_type": "code",
   "execution_count": 11,
   "metadata": {},
   "outputs": [
    {
     "name": "stdout",
     "output_type": "stream",
     "text": [
      "(array([], dtype=int64),)\n"
     ]
    }
   ],
   "source": [
    "import numpy as np\n",
    "print(np.where(dataset['plafon_kredit']>500000000))"
   ]
  },
  {
   "cell_type": "markdown",
   "metadata": {},
   "source": [
    "Tidak ada yang melebihi plafond kredit"
   ]
  },
  {
   "cell_type": "markdown",
   "metadata": {},
   "source": [
    "Jangka Waktu Peminjaman (> 60 bulan)"
   ]
  },
  {
   "cell_type": "code",
   "execution_count": 12,
   "metadata": {},
   "outputs": [
    {
     "data": {
      "text/plain": [
       "<AxesSubplot: >"
      ]
     },
     "execution_count": 12,
     "metadata": {},
     "output_type": "execute_result"
    },
    {
     "data": {
      "image/png": "[encoded data removed]",
      "text/plain": [
       "<Figure size 432x288 with 1 Axes>"
      ]
     },
     "metadata": {
      "needs_background": "light"
     },
     "output_type": "display_data"
    }
   ],
   "source": [
    "import seaborn as sns\n",
    "sns.boxplot(dataset['jangka_waktu'])"
   ]
  },
  {
   "cell_type": "markdown",
   "metadata": {},
   "source": [
    "Tidak ada yang melebihi jangka waktu"
   ]
  },
  {
   "cell_type": "markdown",
   "metadata": {},
   "source": [
    "Pre-Processing Data"
   ]
  },
  {
   "cell_type": "markdown",
   "metadata": {},
   "source": [
    "Encoding Kategorikal Data dengan One-hot Encoding"
   ]
  },
  {
   "cell_type": "code",
   "execution_count": 13,
   "metadata": {},
   "outputs": [],
   "source": [
    "on_jenis_kredit_bank = pd.get_dummies(dataset['jenis_kredit_bank'], prefix='jenis_kredit_bank')\n",
    "on_jenis_kur_bank = pd.get_dummies(dataset['jenis_kur_bank'], prefix='jenis_kur_bank')\n",
    "on_jenis_kelamin = pd.get_dummies(dataset['jenis_kelamin'], prefix='jenis_kelamin')\n",
    "on_sector_desc = pd.get_dummies(dataset['sector_desc'], prefix='sector_desc')\n",
    "on_jenis_agunan = pd.get_dummies(dataset['jenis_agunan'], prefix='jenis_agunan')\n",
    "on_kode_uker = pd.get_dummies(dataset['kode_uker'], prefix='kode_uker')"
   ]
  },
  {
   "cell_type": "markdown",
   "metadata": {},
   "source": [
    "Menentukan Variabel Dependen dan Independen"
   ]
  },
  {
   "cell_type": "code",
   "execution_count": 14,
   "metadata": {},
   "outputs": [],
   "source": [
    "# Define class and feature\n",
    "X = pd.concat([on_jenis_kredit_bank, on_jenis_kur_bank, on_jenis_kelamin, on_sector_desc, on_jenis_agunan, dataset['jangka_waktu'],on_kode_uker,\n",
    "               dataset['plafon_kredit'],dataset['modal_usaha'], dataset['nilai_agunan'],dataset['jml_t_kerja']], axis = 1)\n",
    "Y = dataset['is_claim']\n",
    "\n",
    "#Split 80/20\n",
    "from sklearn.model_selection import train_test_split\n",
    "X_train, X_test, y_train, y_test = train_test_split(X, Y, test_size= 0.2, random_state=42)"
   ]
  },
  {
   "cell_type": "markdown",
   "metadata": {},
   "source": [
    "Prediction Before SMOTE\n",
    "1. Random Forest"
   ]
  },
  {
   "cell_type": "code",
   "execution_count": 15,
   "metadata": {},
   "outputs": [
    {
     "name": "stdout",
     "output_type": "stream",
     "text": [
      "Model accuracy score with 10 decision-trees : 0.9591\n"
     ]
    },
    {
     "data": {
      "text/html": [
       "<style>#sk-container-id-1 {color: black;background-color: white;}#sk-container-id-1 pre{padding: 0;}#sk-container-id-1 div.sk-toggleable {background-color: white;}#sk-container-id-1 label.sk-toggleable__label {cursor: pointer;display: block;width: 100%;margin-bottom: 0;padding: 0.3em;box-sizing: border-box;text-align: center;}#sk-container-id-1 label.sk-toggleable__label-arrow:before {content: \"▸\";float: left;margin-right: 0.25em;color: #696969;}#sk-container-id-1 label.sk-toggleable__label-arrow:hover:before {color: black;}#sk-container-id-1 div.sk-estimator:hover label.sk-toggleable__label-arrow:before {color: black;}#sk-container-id-1 div.sk-toggleable__content {max-height: 0;max-width: 0;overflow: hidden;text-align: left;background-color: #f0f8ff;}#sk-container-id-1 div.sk-toggleable__content pre {margin: 0.2em;color: black;border-radius: 0.25em;background-color: #f0f8ff;}#sk-container-id-1 input.sk-toggleable__control:checked~div.sk-toggleable__content {max-height: 200px;max-width: 100%;overflow: auto;}#sk-container-id-1 input.sk-toggleable__control:checked~label.sk-toggleable__label-arrow:before {content: \"▾\";}#sk-container-id-1 div.sk-estimator input.sk-toggleable__control:checked~label.sk-toggleable__label {background-color: #d4ebff;}#sk-container-id-1 div.sk-label input.sk-toggleable__control:checked~label.sk-toggleable__label {background-color: #d4ebff;}#sk-container-id-1 input.sk-hidden--visually {border: 0;clip: rect(1px 1px 1px 1px);clip: rect(1px, 1px, 1px, 1px);height: 1px;margin: -1px;overflow: hidden;padding: 0;position: absolute;width: 1px;}#sk-container-id-1 div.sk-estimator {font-family: monospace;background-color: #f0f8ff;border: 1px dotted black;border-radius: 0.25em;box-sizing: border-box;margin-bottom: 0.5em;}#sk-container-id-1 div.sk-estimator:hover {background-color: #d4ebff;}#sk-container-id-1 div.sk-parallel-item::after {content: \"\";width: 100%;border-bottom: 1px solid gray;flex-grow: 1;}#sk-container-id-1 div.sk-label:hover label.sk-toggleable__label {background-color: #d4ebff;}#sk-container-id-1 div.sk-serial::before {content: \"\";position: absolute;border-left: 1px solid gray;box-sizing: border-box;top: 0;bottom: 0;left: 50%;z-index: 0;}#sk-container-id-1 div.sk-serial {display: flex;flex-direction: column;align-items: center;background-color: white;padding-right: 0.2em;padding-left: 0.2em;position: relative;}#sk-container-id-1 div.sk-item {position: relative;z-index: 1;}#sk-container-id-1 div.sk-parallel {display: flex;align-items: stretch;justify-content: center;background-color: white;position: relative;}#sk-container-id-1 div.sk-item::before, #sk-container-id-1 div.sk-parallel-item::before {content: \"\";position: absolute;border-left: 1px solid gray;box-sizing: border-box;top: 0;bottom: 0;left: 50%;z-index: -1;}#sk-container-id-1 div.sk-parallel-item {display: flex;flex-direction: column;z-index: 1;position: relative;background-color: white;}#sk-container-id-1 div.sk-parallel-item:first-child::after {align-self: flex-end;width: 50%;}#sk-container-id-1 div.sk-parallel-item:last-child::after {align-self: flex-start;width: 50%;}#sk-container-id-1 div.sk-parallel-item:only-child::after {width: 0;}#sk-container-id-1 div.sk-dashed-wrapped {border: 1px dashed gray;margin: 0 0.4em 0.5em 0.4em;box-sizing: border-box;padding-bottom: 0.4em;background-color: white;}#sk-container-id-1 div.sk-label label {font-family: monospace;font-weight: bold;display: inline-block;line-height: 1.2em;}#sk-container-id-1 div.sk-label-container {text-align: center;}#sk-container-id-1 div.sk-container {/* jupyter's `normalize.less` sets `[hidden] { display: none; }` but bootstrap.min.css set `[hidden] { display: none !important; }` so we also need the `!important` here to be able to override the default hidden behavior on the sphinx rendered scikit-learn.org. See: https://github.com/scikit-learn/scikit-learn/issues/21755 */display: inline-block !important;position: relative;}#sk-container-id-1 div.sk-text-repr-fallback {display: none;}</style><div id=\"sk-container-id-1\" class=\"sk-top-container\"><div class=\"sk-text-repr-fallback\"><pre>RandomForestClassifier(random_state=42)</pre><b>In a Jupyter environment, please rerun this cell to show the HTML representation or trust the notebook. <br />On GitHub, the HTML representation is unable to render, please try loading this page with nbviewer.org.</b></div><div class=\"sk-container\" hidden><div class=\"sk-item\"><div class=\"sk-estimator sk-toggleable\"><input class=\"sk-toggleable__control sk-hidden--visually\" id=\"sk-estimator-id-1\" type=\"checkbox\" checked><label for=\"sk-estimator-id-1\" class=\"sk-toggleable__label sk-toggleable__label-arrow\">RandomForestClassifier</label><div class=\"sk-toggleable__content\"><pre>RandomForestClassifier(random_state=42)</pre></div></div></div></div></div>"
      ],
      "text/plain": [
       "RandomForestClassifier(random_state=42)"
      ]
     },
     "execution_count": 15,
     "metadata": {},
     "output_type": "execute_result"
    }
   ],
   "source": [
    "from sklearn.ensemble import RandomForestClassifier\n",
    "# instantiate the classifier \n",
    "rfc = RandomForestClassifier(random_state=42)\n",
    "# fit the model\n",
    "rfc.fit(X_train, y_train)\n",
    "# Predict the Test set results\n",
    "y_pred = rfc.predict(X_test)\n",
    "# Check accuracy score \n",
    "from sklearn.metrics import accuracy_score\n",
    "print('Model accuracy score with 10 decision-trees : {0:0.4f}'. format(accuracy_score(y_test, y_pred)))\n",
    "clf = RandomForestClassifier(n_estimators=100, random_state=42)\n",
    "# fit the model to the training set\n",
    "clf.fit(X_train, y_train)"
   ]
  },
  {
   "cell_type": "code",
   "execution_count": 16,
   "metadata": {},
   "outputs": [
    {
     "name": "stdout",
     "output_type": "stream",
     "text": [
      "Confusion matrix\n",
      "\n",
      " [[18946   101]\n",
      " [  716   226]]\n"
     ]
    },
    {
     "name": "stderr",
     "output_type": "stream",
     "text": [
      "c:\\Users\\asus\\anaconda3\\envs\\myenv\\lib\\site-packages\\sklearn\\utils\\deprecation.py:87: FutureWarning: Function plot_confusion_matrix is deprecated; Function `plot_confusion_matrix` is deprecated in 1.0 and will be removed in 1.2. Use one of the class methods: ConfusionMatrixDisplay.from_predictions or ConfusionMatrixDisplay.from_estimator.\n",
      "  warnings.warn(msg, category=FutureWarning)\n"
     ]
    },
    {
     "data": {
      "image/png": "[encoded data removed]",
      "text/plain": [
       "<Figure size 432x288 with 2 Axes>"
      ]
     },
     "metadata": {
      "needs_background": "light"
     },
     "output_type": "display_data"
    }
   ],
   "source": [
    "from sklearn.metrics import confusion_matrix\n",
    "\n",
    "cm = confusion_matrix(y_test, y_pred)\n",
    "\n",
    "print('Confusion matrix\\n\\n', cm)\n",
    "\n",
    "from sklearn.metrics import plot_confusion_matrix\n",
    "plot_confusion_matrix(clf, X_test, y_test)  \n",
    "plt.show()"
   ]
  },
  {
   "cell_type": "code",
   "execution_count": 17,
   "metadata": {},
   "outputs": [
    {
     "name": "stdout",
     "output_type": "stream",
     "text": [
      "              precision    recall  f1-score   support\n",
      "\n",
      "           0       0.96      0.99      0.98     19047\n",
      "           1       0.69      0.24      0.36       942\n",
      "\n",
      "    accuracy                           0.96     19989\n",
      "   macro avg       0.83      0.62      0.67     19989\n",
      "weighted avg       0.95      0.96      0.95     19989\n",
      "\n",
      "0.9591275201360748\n",
      "0.691131498470948\n",
      "0.3561859732072498\n"
     ]
    }
   ],
   "source": [
    "from sklearn.metrics import classification_report\n",
    "\n",
    "print(classification_report(y_test, y_pred))\n",
    "\n",
    "from sklearn.metrics import accuracy_score, precision_score, f1_score\n",
    "print(accuracy_score(y_test, y_pred))\n",
    "print(precision_score(y_test, y_pred))\n",
    "print(f1_score(y_test, y_pred))"
   ]
  },
  {
   "cell_type": "markdown",
   "metadata": {},
   "source": [
    "2. Decision Tree"
   ]
  },
  {
   "cell_type": "code",
   "execution_count": 18,
   "metadata": {},
   "outputs": [
    {
     "name": "stdout",
     "output_type": "stream",
     "text": [
      "Model accuracy score with criterion entropy: 0.9529\n"
     ]
    }
   ],
   "source": [
    "# import DecisionTreeClassifier\n",
    "from sklearn.tree import DecisionTreeClassifier\n",
    "\n",
    "# instantiate the DecisionTreeClassifier model with criterion entropy\n",
    "clf_en = DecisionTreeClassifier(criterion='entropy', max_depth=3, random_state=42)\n",
    "# fit the model\n",
    "clf_en.fit(X_train, y_train)\n",
    "\n",
    "y_pred_en = clf_en.predict(X_test)\n",
    "\n",
    "from sklearn.metrics import accuracy_score\n",
    "\n",
    "print('Model accuracy score with criterion entropy: {0:0.4f}'. format(accuracy_score(y_test, y_pred_en)))"
   ]
  },
  {
   "cell_type": "code",
   "execution_count": 19,
   "metadata": {},
   "outputs": [
    {
     "name": "stdout",
     "output_type": "stream",
     "text": [
      "Training-set accuracy score: 0.9552\n",
      "Training set score: 0.9552\n",
      "Test set score: 0.9529\n"
     ]
    }
   ],
   "source": [
    "y_pred_train_en = clf_en.predict(X_train)\n",
    "\n",
    "y_pred_train_en\n",
    "print('Training-set accuracy score: {0:0.4f}'. format(accuracy_score(y_train, y_pred_train_en)))\n",
    "# print the scores on training and test set\n",
    "\n",
    "print('Training set score: {:.4f}'.format(clf_en.score(X_train, y_train)))\n",
    "\n",
    "print('Test set score: {:.4f}'.format(clf_en.score(X_test, y_test)))\n"
   ]
  },
  {
   "cell_type": "code",
   "execution_count": 20,
   "metadata": {},
   "outputs": [
    {
     "name": "stdout",
     "output_type": "stream",
     "text": [
      "Confusion matrix\n",
      "\n",
      " [[19047     0]\n",
      " [  942     0]]\n"
     ]
    }
   ],
   "source": [
    "# Print the Confusion Matrix and slice it into four pieces\n",
    "\n",
    "from sklearn.metrics import confusion_matrix\n",
    "\n",
    "cm = confusion_matrix(y_test, y_pred_en)\n",
    "\n",
    "print('Confusion matrix\\n\\n', cm)"
   ]
  },
  {
   "cell_type": "code",
   "execution_count": 21,
   "metadata": {},
   "outputs": [
    {
     "name": "stderr",
     "output_type": "stream",
     "text": [
      "c:\\Users\\asus\\anaconda3\\envs\\myenv\\lib\\site-packages\\sklearn\\utils\\deprecation.py:87: FutureWarning: Function plot_confusion_matrix is deprecated; Function `plot_confusion_matrix` is deprecated in 1.0 and will be removed in 1.2. Use one of the class methods: ConfusionMatrixDisplay.from_predictions or ConfusionMatrixDisplay.from_estimator.\n",
      "  warnings.warn(msg, category=FutureWarning)\n"
     ]
    },
    {
     "data": {
      "image/png": "[encoded data removed]",
      "text/plain": [
       "<Figure size 432x288 with 2 Axes>"
      ]
     },
     "metadata": {
      "needs_background": "light"
     },
     "output_type": "display_data"
    }
   ],
   "source": [
    "from sklearn.metrics import plot_confusion_matrix\n",
    "plot_confusion_matrix(clf_en, X_test, y_test)  \n",
    "plt.show()"
   ]
  },
  {
   "cell_type": "code",
   "execution_count": 22,
   "metadata": {},
   "outputs": [
    {
     "name": "stderr",
     "output_type": "stream",
     "text": [
      "c:\\Users\\asus\\anaconda3\\envs\\myenv\\lib\\site-packages\\sklearn\\metrics\\_classification.py:1334: UndefinedMetricWarning: Precision and F-score are ill-defined and being set to 0.0 in labels with no predicted samples. Use `zero_division` parameter to control this behavior.\n",
      "  _warn_prf(average, modifier, msg_start, len(result))\n",
      "c:\\Users\\asus\\anaconda3\\envs\\myenv\\lib\\site-packages\\sklearn\\metrics\\_classification.py:1334: UndefinedMetricWarning: Precision and F-score are ill-defined and being set to 0.0 in labels with no predicted samples. Use `zero_division` parameter to control this behavior.\n",
      "  _warn_prf(average, modifier, msg_start, len(result))\n",
      "c:\\Users\\asus\\anaconda3\\envs\\myenv\\lib\\site-packages\\sklearn\\metrics\\_classification.py:1334: UndefinedMetricWarning: Precision and F-score are ill-defined and being set to 0.0 in labels with no predicted samples. Use `zero_division` parameter to control this behavior.\n",
      "  _warn_prf(average, modifier, msg_start, len(result))\n"
     ]
    },
    {
     "name": "stdout",
     "output_type": "stream",
     "text": [
      "              precision    recall  f1-score   support\n",
      "\n",
      "           0       0.95      1.00      0.98     19047\n",
      "           1       0.00      0.00      0.00       942\n",
      "\n",
      "    accuracy                           0.95     19989\n",
      "   macro avg       0.48      0.50      0.49     19989\n",
      "weighted avg       0.91      0.95      0.93     19989\n",
      "\n"
     ]
    },
    {
     "data": {
      "text/plain": [
       "[Text(0.5, 0.875, 'X[47] <= 0.5\\nentropy = 0.264\\nsamples = 79953\\nvalue = [76368, 3585]'),\n",
       " Text(0.25, 0.625, 'X[131] <= 0.5\\nentropy = 0.245\\nsamples = 78537\\nvalue = [75342, 3195]'),\n",
       " Text(0.125, 0.375, 'X[208] <= 0.5\\nentropy = 0.223\\nsamples = 76514\\nvalue = [73768, 2746]'),\n",
       " Text(0.0625, 0.125, 'entropy = 0.216\\nsamples = 75904\\nvalue = [73291, 2613]'),\n",
       " Text(0.1875, 0.125, 'entropy = 0.757\\nsamples = 610\\nvalue = [477, 133]'),\n",
       " Text(0.375, 0.375, 'X[355] <= 10850000.0\\nentropy = 0.764\\nsamples = 2023\\nvalue = [1574, 449]'),\n",
       " Text(0.3125, 0.125, 'entropy = 0.532\\nsamples = 380\\nvalue = [334, 46]'),\n",
       " Text(0.4375, 0.125, 'entropy = 0.804\\nsamples = 1643\\nvalue = [1240, 403]'),\n",
       " Text(0.75, 0.625, 'X[238] <= 0.5\\nentropy = 0.849\\nsamples = 1416\\nvalue = [1026, 390]'),\n",
       " Text(0.625, 0.375, 'X[69] <= 15.0\\nentropy = 0.475\\nsamples = 589\\nvalue = [529, 60]'),\n",
       " Text(0.5625, 0.125, 'entropy = 0.801\\nsamples = 201\\nvalue = [152, 49]'),\n",
       " Text(0.6875, 0.125, 'entropy = 0.186\\nsamples = 388\\nvalue = [377, 11]'),\n",
       " Text(0.875, 0.375, 'X[356] <= 2500000.0\\nentropy = 0.97\\nsamples = 827\\nvalue = [497, 330]'),\n",
       " Text(0.8125, 0.125, 'entropy = 0.972\\nsamples = 821\\nvalue = [491, 330]'),\n",
       " Text(0.9375, 0.125, 'entropy = 0.0\\nsamples = 6\\nvalue = [6, 0]')]"
      ]
     },
     "execution_count": 22,
     "metadata": {},
     "output_type": "execute_result"
    },
    {
     "data": {
      "image/png": "[encoded data removed]",
      "text/plain": [
       "<Figure size 1440x864 with 1 Axes>"
      ]
     },
     "metadata": {
      "needs_background": "light"
     },
     "output_type": "display_data"
    }
   ],
   "source": [
    "from sklearn.metrics import classification_report\n",
    "\n",
    "print(classification_report(y_test, y_pred_en))\n",
    "plt.figure(figsize=(20,12))\n",
    "\n",
    "from sklearn import tree\n",
    "\n",
    "tree.plot_tree(clf_en.fit(X_train, y_train)) "
   ]
  }
 ],
 "metadata": {
  "kernelspec": {
   "display_name": "Python 3.9.15 ('myenv')",
   "language": "python",
   "name": "python3"
  },
  "language_info": {
   "codemirror_mode": {
    "name": "ipython",
    "version": 3
   },
   "file_extension": ".py",
   "mimetype": "text/x-python",
   "name": "python",
   "nbconvert_exporter": "python",
   "pygments_lexer": "ipython3",
   "version": "3.9.15"
  },
  "orig_nbformat": 4,
  "vscode": {
   "interpreter": {
    "hash": "8129fbbab93e3af375678fe5c305b8a3b84bda369d73af0ac9e1c91a656b6aad"
   }
  }
 },
 "nbformat": 4,
 "nbformat_minor": 2
}
